{
  "nbformat": 4,
  "nbformat_minor": 0,
  "metadata": {
    "colab": {
      "provenance": []
    },
    "kernelspec": {
      "name": "python3",
      "display_name": "Python 3"
    },
    "language_info": {
      "name": "python"
    }
  },
  "cells": [
    {
      "cell_type": "markdown",
      "source": [
        "Import necessary modules"
      ],
      "metadata": {
        "id": "4op72h1vAijg"
      }
    },
    {
      "cell_type": "code",
      "execution_count": null,
      "metadata": {
        "id": "h6ZBZs8fAJvz"
      },
      "outputs": [],
      "source": [
        "import numpy as np \n",
        "import matplotlib.pyplot as plt\n",
        "import matplotlib.patches as patch\n"
      ]
    },
    {
      "cell_type": "markdown",
      "source": [
        "Create the rectangle patches."
      ],
      "metadata": {
        "id": "CUpx2BKTIjWs"
      }
    },
    {
      "cell_type": "code",
      "source": [
        "a = patch.Rectangle((1,0), width=3, height=7, facecolor='#15b01a', edgecolor='grey') \n",
        "b = patch.Rectangle((3,0), width=3, height=7, facecolor='#ffffff', edgecolor='grey') \n",
        "c = patch.Rectangle((5,0), width=2, height=7, facecolor='#15b01a', edgecolor='grey') "
      ],
      "metadata": {
        "id": "a6Mn-MbFAphC"
      },
      "execution_count": null,
      "outputs": []
    },
    {
      "cell_type": "code",
      "source": [
        "#Create the figures and axis\n",
        "m,n = plt.subplots()\n",
        "\n",
        "#Add the patches to the axis\n",
        "n.add_patch(a)\n",
        "n.add_patch(b)\n",
        "n.add_patch(c)\n",
        "\n",
        "plt.axis('equal')\n",
        "plt.show()"
      ],
      "metadata": {
        "colab": {
          "base_uri": "https://localhost:8080/",
          "height": 265
        },
        "id": "aIKxaXleDvkn",
        "outputId": "2868ee79-719a-4d14-fabd-d095f4a6d15c"
      },
      "execution_count": null,
      "outputs": [
        {
          "output_type": "display_data",
          "data": {
            "text/plain": [
              "<Figure size 432x288 with 1 Axes>"
            ],
            "image/png": "[encoded data removed]"
          },
          "metadata": {
            "needs_background": "light"
          }
        }
      ]
    }
  ]
}