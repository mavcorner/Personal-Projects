{
  "nbformat": 4,
  "nbformat_minor": 0,
  "metadata": {
    "colab": {
      "provenance": []
    },
    "kernelspec": {
      "name": "python3",
      "display_name": "Python 3"
    },
    "language_info": {
      "name": "python"
    },
    "accelerator": "GPU",
    "gpuClass": "standard"
  },
  "cells": [
    {
      "cell_type": "markdown",
      "source": [
        "# Software Coursework 2\n",
        "\n",
        "Name: Rosemary Odinakachi Nnamdi\n",
        "\n",
        "MSC Financial Technology\n",
        "\n",
        "S2244511\n",
        "\n",
        "RNNAMD300@caledonian.ac.uk"
      ],
      "metadata": {
        "id": "_FR5HL1mdqc2"
      }
    },
    {
      "cell_type": "markdown",
      "source": [
        "#Introduction"
      ],
      "metadata": {
        "id": "uv-LsA6ZdvwQ"
      }
    },
    {
      "cell_type": "markdown",
      "source": [
        "Convolutional Neural Network is a deep learning mechanism that is designed to learn from data, especially pixel data. CNN or CovNet is an architecture that can be utilized in carrying out image recognition and similar activities. \n",
        "The goal of this network architecture is to recognize patterns in pixel data and intensely utilised in technology that needs seamless object identification systems. For instance, it can be applied to innovations like self driving vehicles. \n",
        "The structure of the CovNet or CNN can be likened to the connectivity of the brain. In the case of the human brain, it has billions of neurons working together to achieve different activities such as recognition. In the case of CNN, it has numerous layers that work together to try and detect varying elements in a picture. \n",
        "These layers are made up of input layers, output layers and other types of layers that reside in between the aforementioned.  Typically, a CovNet has three popular layers that are worthy of mentioning, which are the pooling, activation and convolution. \n",
        "\n",
        "When it is at the convolutional layer, a filter checks the image for features. The activation or ReLU (Rectified linear unit) layer is designed to change negative values in the input to zero. \n",
        "In the pooling layer, a filter reduces the complexity of the input. When one compares CovNet with its predecessors, it is more efficient when it comes to a wide array of inputs such as image and speech.\n",
        "CovNet can be utilized in different fields such as object identification, medical imaging, audio processing and much more. CNN comes in different algorithms such as AlexNet, LeNet, Resnet, VGG, GoogleNetor Inception and much more. \n",
        "\n",
        "In this coursework, I want to check out the efficacy of two CNN algorithms, LeNet and GoogleNet on the MNIST dataset. I will check out their level of accuracy and compare the functionalities of both algorithms. \n"
      ],
      "metadata": {
        "id": "dBbhodwYxvJ-"
      }
    },
    {
      "cell_type": "markdown",
      "source": [
        "#Dataset Chosen \n",
        "MNIST is a database that is notable in the machine/ deep learning space for containing handwritten digits that are utilized in training models. The Modified National Institute of Standards and Technology database is great for testing the efficacy of image processing systems without having to deal with data that is not well formatted. It has a total number of 70,000 handwritten digits which came from altering the structure of the NIST database. \n",
        "In this case, I will utilize the MNIST database to test the efficacy of AlexNet and LeNet CovNet algorithms. "
      ],
      "metadata": {
        "id": "eIuok1smx3yb"
      }
    },
    {
      "cell_type": "markdown",
      "source": [
        "# Chosen Algorithms \n",
        "\n",
        "Before deciding on my algorithms, I tried out a wide array of them. For instance, I noticed VGG took a longer time to train, which was not feasible for my assignment. I felt the heavy was too heavy for what I intended to achieve. \n",
        "\n",
        "Initially I trained a model with VGG, and it was still training after three hours, with no plans of stopping anytime soon.\n",
        "\n",
        "When I realized that VGG was not suitable, I opted for AlexNet. I did my research on AlexNet, and tried to use my MNIST dataset on it. I realized that it was still training after one hour, not minding that I reduced the epoch to 5 and the batch size to 64.\n",
        "\n",
        "\n",
        "My research took me on a voyage, where I decided to give LeNet a trial. Compared to others, the training speed was faster than the others I had tried and the accuracy level was high while the test loss was lower.\n",
        "\n",
        "The second CNN algorithm I opted for was GoogleNet or Inception. The training time was fast, which was one of the reasons I chose it. Below, I will go in depth on the two algorithms I chose and why I chose them.\n",
        "\n",
        "I referenced the sources of the code of the algorithms I used and explained the steps based on my understanding as requested in the coursework guidelines.\n",
        "\n",
        "\n",
        "\n",
        "**LeNet-5**\n",
        "\n",
        "LeNet is a CNN algorithm that was developed in 1998 by four researchers: Yann LeCun, Leon Bottou, Yosuha Bengio and Patrick Haffner.\n",
        "It was used by commercial banks to identify the handwritten digits on cheques, which is an application of the main purpose of recognizing the numbers on MNIST database. The architecture of this algorithm contains consists three pooling layers and three convolution layers.  \n",
        "LeNet is faster to train and easier to understand for me. Apart from that, it runs on CPU seamlessly and beginner friendly. \n",
        "\n",
        "**GoogLeNet** \n",
        "\n",
        "GoogLeNet or Inception was developed by developers at Google and it won the won ILSVRC-2014 prize. It is an adaptation of the LeNet, as it built on it and improved the older version. Its name GoogLeNet was coined from Google and LeNet. \n",
        "GoogLeNet is easier to train compared to other CovNet algorithms like AlexNet and VGG. It doesn't use a sequential model like other CNN algorithms such as LeNet and AlexNet, instead of opts for a branching system that results in auxiliary losses.\n",
        "GoogLeNet is a deep network that doesn't suffer from the drawbacks that come with this feature. Typically, a deep network translates to more training time for parameters, which may not be efficient for most users. It also needs bigger GPUs, making it cumbersome and somewhat expensive. \n",
        "To solve this, GoogLeNet utilizes 1x1 convolutions to ensure that the network remains deep without having to deal with the aforementioned issues. It also clamps down on the range of feature maps and ensuring that the sizes of the images remain the same. \n",
        "Another reason that GoogLeNet is deep and fast is its usage of two auxiliary losses before the actual loss occurs. This makes the gradients to move with a shorter path. \n",
        "GoogLeNet is more concise compared to its counterparts. It has a size of 96 MB, while 528 MB has a size of 528 MB. (Chatuverdi, 2021).\n",
        "\n",
        "\n",
        "\n"
      ],
      "metadata": {
        "id": "aABu8tO7yDyP"
      }
    },
    {
      "cell_type": "markdown",
      "source": [
        "# LeNet Image Classification"
      ],
      "metadata": {
        "id": "1iXEh1hqE8vQ"
      }
    },
    {
      "cell_type": "markdown",
      "source": [
        "The first step in this image classification using LeNet is the imporation of the necessary libraries.\n",
        "I have imported keras and MNIST dataset."
      ],
      "metadata": {
        "id": "948wCHROmn4W"
      }
    },
    {
      "cell_type": "code",
      "execution_count": null,
      "metadata": {
        "id": "qOPqzv5JDwRd"
      },
      "outputs": [],
      "source": [
        "# Importing necessary libraries\n",
        "import keras\n",
        "from keras.datasets import mnist\n",
        "from keras.layers import Conv2D, MaxPooling2D\n",
        "from keras.layers import Dense, Flatten\n",
        "from keras.models import Sequential"
      ]
    },
    {
      "cell_type": "markdown",
      "source": [
        "**Loading Dataset**\n",
        "\n",
        "I am importing the MNIST dataset, and splitting them into different groups, which are the train and test."
      ],
      "metadata": {
        "id": "QmMbQiZ3D7nO"
      }
    },
    {
      "cell_type": "code",
      "source": [
        "# I want to load the dataset and split it\n",
        "(x_train, y_train), (x_test, y_test) = mnist.load_data()"
      ],
      "metadata": {
        "id": "OeAtwSxWD22X",
        "colab": {
          "base_uri": "https://localhost:8080/"
        },
        "outputId": "b51ab987-84e7-41b8-c832-013f8aa548ca"
      },
      "execution_count": null,
      "outputs": [
        {
          "output_type": "stream",
          "name": "stdout",
          "text": [
            "Downloading data from https://storage.googleapis.com/tensorflow/tf-keras-datasets/mnist.npz\n",
            "11490434/11490434 [==============================] - 0s 0us/step\n"
          ]
        }
      ]
    },
    {
      "cell_type": "markdown",
      "source": [
        "**Distribution of the dataset**\n",
        "\n",
        "I want to check the distribution of the MNIST dataset."
      ],
      "metadata": {
        "id": "esq6vl1AwlWZ"
      }
    },
    {
      "cell_type": "code",
      "source": [
        "import seaborn as sns\n",
        "import matplotlib.pyplot as plt\n",
        "\n",
        "\n",
        "plt.figure(figsize=(10,5))\n",
        "ax = sns.countplot(x = y_train, palette = 'Dark2')\n",
        "t= len(y_train)\n",
        "for p in ax.patches:\n",
        "    percentage = f'{100 * p.get_height() / t:.1f}%\\n'\n",
        "    x = p.get_x() + p.get_width() / 2\n",
        "    y = p.get_height()\n",
        "    ax.annotate(percentage, (x, y), ha='center', va='center')\n",
        "plt.show()"
      ],
      "metadata": {
        "colab": {
          "base_uri": "https://localhost:8080/",
          "height": 321
        },
        "id": "5gS22ngRwoQV",
        "outputId": "a21d3d2f-e456-470e-df6e-9e1a02a8cd06"
      },
      "execution_count": null,
      "outputs": [
        {
          "output_type": "display_data",
          "data": {
            "text/plain": [
              "<Figure size 720x360 with 1 Axes>"
            ],
            "image/png": "[encoded data removed]"
          },
          "metadata": {
            "needs_background": "light"
          }
        }
      ]
    },
    {
      "cell_type": "markdown",
      "source": [
        "**Image Data Processing**\n",
        "\n",
        "The next stage is to do is image processing. In this stage, I want to reshape the dataset to effectively work with the Keras API. To do this, I have reshaped i into a 4-dimensional numpy array. The MNIST image is usually 28x28, and LeNet needs 32x32 pixels.\n",
        "\n",
        "The next stage is to normalize it, which means that I am altering the range of pixel data and get it to a better level. This is a compulsory step.\n",
        "\n",
        "The next stage is to hot encode the dataset. By this, I am converting categorical data to a form that the algorithm can understand and predict."
      ],
      "metadata": {
        "id": "19OJtZJOEJSX"
      }
    },
    {
      "cell_type": "code",
      "source": [
        "# I am reshaping the dataset.\n",
        "x_train = x_train.reshape(x_train.shape[0], 28, 28, 1)\n",
        "x_test = x_test.reshape(x_test.shape[0], 28, 28, 1)\n",
        "\n",
        "# I am Normalizing the dataset. \n",
        "x_train = x_train / 255\n",
        "x_test = x_test / 255\n",
        "\n",
        "# This involves One Hot Encoding\n",
        "y_train = keras.utils.to_categorical(y_train, 10)\n",
        "y_test = keras.utils.to_categorical(y_test, 10)"
      ],
      "metadata": {
        "id": "e7owMcX5ENHn"
      },
      "execution_count": null,
      "outputs": []
    },
    {
      "cell_type": "markdown",
      "source": [
        "**LENET MODEL ARCHITECTURE**"
      ],
      "metadata": {
        "id": "_wGufYSOEV0_"
      }
    },
    {
      "cell_type": "markdown",
      "source": [
        "At this stage, I want to construct the LeNet model. I intend to create a sequential model, before I add more layers to it. It is made up of two important stages, which are divided into the front end and back end structures. The front end is meant for feature extraction, and it is made up of convolutional and pooling layers.\n",
        "The back end is the classifier section that will be utilized in making prediction.\n",
        "\n",
        "\n",
        "In the first layer of the CNN layer or C1, it has six feature maps that have strides of one. It has a dimension of 28x28 and an activation function of relu.\n",
        "\n",
        "In the layer S2, it is an max pooling layer, and its duty is to select maximum feature value that emanated from the prior CNN layer to the next CNN layer. In this layer, the pooling layer has 2.\n",
        "Max pooling usually opt for features with more dominant functions. This means that only the highest features will be accessed with the pooling layer.\n",
        "\n",
        "\n",
        "In the layer C3, this is seen as the second CNN layer that has  sixteen feature maps. As for the output dimension, it is ten. The activation function is relu.\n",
        "\n",
        "In the layer S4, it is a pooling size of 2.\n",
        "\n",
        "As for the next layer, the layer is meant to flatten the prior layer's output into a one-dimensional array.\n",
        "\n",
        "\n",
        "In the layer C5, it is fully connected layer as a result of the Dense functionality and it has 120 connections. The activation function is relu.\n",
        "\n",
        "In the layer F6, it is another fully connected layer as a result of the Dense functionality with 84 parameters. It has an activation functionality of relu.\n",
        "\n",
        "\n",
        "In the last layer, it is another fully connected layer as a result of the Dense functionality with 10 parameters. It has an activation functionality of softmax."
      ],
      "metadata": {
        "id": "tQkmuohdpc9B"
      }
    },
    {
      "cell_type": "code",
      "source": [
        "# I want to build the sequential model, then add more layers to it.\n",
        "model = Sequential()\n",
        "\n",
        "# I am choosing to use a six-feature convolution filter or kernel that has a size of 5*5. \n",
        "model.add(Conv2D(6, kernel_size=(5, 5), activation='relu', input_shape=(28, 28, 1)))\n",
        "\n",
        "# The first layer's output will function as the input of this layer. I have also decided to use a convolution kernel or filter of 2*2.\n",
        "model.add(MaxPooling2D(pool_size=(2, 2)))\n",
        "\n",
        "# I have decided to use a convolution kernel or filter of size 5*5, with a depth of 16.\n",
        "model.add(Conv2D(16, kernel_size=(5, 5), activation='relu'))\n",
        "\n",
        "# I have decided to use a convolution kernel or filter of size 2*2.\n",
        "model.add(MaxPooling2D(pool_size=(2, 2)))\n",
        "\n",
        "# I want to flatten the output of the LeNet and send it to a fully connected layer.\n",
        "model.add(Flatten())\n",
        "model.add(Dense(120, activation='relu'))\n",
        "# At this stage, the input nodes are 120 and the output nodes are 84. \n",
        "model.add(Dense(84, activation='relu'))\n",
        "# At this stage, the input nodes are 84 and the output nodes are 10. \n",
        "model.add(Dense(10, activation='softmax'))"
      ],
      "metadata": {
        "id": "0XVGm_pREZH4"
      },
      "execution_count": null,
      "outputs": []
    },
    {
      "cell_type": "markdown",
      "source": [
        "I want to check the summary of the model."
      ],
      "metadata": {
        "id": "Lzp8MWHTpYVT"
      }
    },
    {
      "cell_type": "code",
      "source": [
        "model.summary()"
      ],
      "metadata": {
        "colab": {
          "base_uri": "https://localhost:8080/"
        },
        "id": "HAI86rEgpQsI",
        "outputId": "43892a93-daf2-4f09-c735-e8df4e46e455"
      },
      "execution_count": null,
      "outputs": [
        {
          "output_type": "stream",
          "name": "stdout",
          "text": [
            "Model: \"sequential\"\n",
            "_________________________________________________________________\n",
            " Layer (type)                Output Shape              Param #   \n",
            "=================================================================\n",
            " conv2d (Conv2D)             (None, 24, 24, 6)         156       \n",
            "                                                                 \n",
            " max_pooling2d (MaxPooling2D  (None, 12, 12, 6)        0         \n",
            " )                                                               \n",
            "                                                                 \n",
            " conv2d_1 (Conv2D)           (None, 8, 8, 16)          2416      \n",
            "                                                                 \n",
            " max_pooling2d_1 (MaxPooling  (None, 4, 4, 16)         0         \n",
            " 2D)                                                             \n",
            "                                                                 \n",
            " flatten (Flatten)           (None, 256)               0         \n",
            "                                                                 \n",
            " dense (Dense)               (None, 120)               30840     \n",
            "                                                                 \n",
            " dense_1 (Dense)             (None, 84)                10164     \n",
            "                                                                 \n",
            " dense_2 (Dense)             (None, 10)                850       \n",
            "                                                                 \n",
            "=================================================================\n",
            "Total params: 44,426\n",
            "Trainable params: 44,426\n",
            "Non-trainable params: 0\n",
            "_________________________________________________________________\n"
          ]
        }
      ]
    },
    {
      "cell_type": "markdown",
      "source": [
        "**Model Compiling and Fitting**\n",
        "\n",
        "At this stage, I want to optimize the empty LeNet architecture that I created above.  To do this, I will introduce three parameters, which are the loss function, optimizer and metrics. I am choosing Adam as the optimizer because I have noticed that it is efficient from my research. In the case of the loss function, I am using the Keras metrics categorical crossentropy because it is a multi class classification model. It is also seen as log loss, and it measures the classification model's performance, where its probability values of between 0 and 1.\n",
        "\n",
        "I used accuracy as the metric that I want to monitor. This is the output layer."
      ],
      "metadata": {
        "id": "j2VhCXLeun5M"
      }
    },
    {
      "cell_type": "code",
      "source": [
        "model.compile(loss=keras.metrics.categorical_crossentropy, optimizer=keras.optimizers.Adam(), metrics=['accuracy'])"
      ],
      "metadata": {
        "id": "mY7keqs0Egww"
      },
      "execution_count": null,
      "outputs": []
    },
    {
      "cell_type": "markdown",
      "source": [
        "I have chosen an epoch of 5, which is the number of times that I can iterate on the dataset. Epoch is one cycle that occurs through the entire dataset for training.\n",
        "\n",
        "\n",
        "Batch size represents how many training examples are in one batch, and in this case is 64. A smaller batch size number was chosen because larger batch sizes could lead to memory issues.\n",
        "\n",
        "Verbose is 1, which showcases the frequency of output logging."
      ],
      "metadata": {
        "id": "RoIM5JJRwRYu"
      }
    },
    {
      "cell_type": "code",
      "source": [
        "history = model.fit(x_train, y_train, batch_size=64, epochs=5, verbose=1, validation_data=(x_test, y_test))"
      ],
      "metadata": {
        "colab": {
          "base_uri": "https://localhost:8080/"
        },
        "id": "xp1xExl3Ehxn",
        "outputId": "b5e4941c-538d-416a-bc2b-c96c3603a729"
      },
      "execution_count": null,
      "outputs": [
        {
          "output_type": "stream",
          "name": "stdout",
          "text": [
            "Epoch 1/5\n",
            "938/938 [==============================] - 17s 6ms/step - loss: 0.2379 - accuracy: 0.9285 - val_loss: 0.0781 - val_accuracy: 0.9749\n",
            "Epoch 2/5\n",
            "938/938 [==============================] - 4s 4ms/step - loss: 0.0750 - accuracy: 0.9766 - val_loss: 0.0533 - val_accuracy: 0.9826\n",
            "Epoch 3/5\n",
            "938/938 [==============================] - 4s 4ms/step - loss: 0.0527 - accuracy: 0.9828 - val_loss: 0.0460 - val_accuracy: 0.9861\n",
            "Epoch 4/5\n",
            "938/938 [==============================] - 4s 4ms/step - loss: 0.0412 - accuracy: 0.9867 - val_loss: 0.0380 - val_accuracy: 0.9882\n",
            "Epoch 5/5\n",
            "938/938 [==============================] - 4s 4ms/step - loss: 0.0343 - accuracy: 0.9894 - val_loss: 0.0472 - val_accuracy: 0.9849\n"
          ]
        }
      ]
    },
    {
      "cell_type": "markdown",
      "source": [
        "**Performance Evaluation**\n",
        "\n",
        "I want to evaluate the performance of the model by seeing their level of accuracy and test loss. "
      ],
      "metadata": {
        "id": "_uQCof1vwsRA"
      }
    },
    {
      "cell_type": "code",
      "source": [
        "score = model.evaluate(x_test, y_test)\n",
        "print('Test Loss:', score[0])\n",
        "print('Test accuracy:', score[1])"
      ],
      "metadata": {
        "colab": {
          "base_uri": "https://localhost:8080/"
        },
        "id": "z-WVbcx7EwpQ",
        "outputId": "b7978c34-925e-4546-c93d-0331f157d45c"
      },
      "execution_count": null,
      "outputs": [
        {
          "output_type": "stream",
          "name": "stdout",
          "text": [
            "313/313 [==============================] - 1s 3ms/step - loss: 0.0472 - accuracy: 0.9849\n",
            "Test Loss: 0.047181371599435806\n",
            "Test accuracy: 0.9848999977111816\n"
          ]
        }
      ]
    },
    {
      "cell_type": "markdown",
      "source": [
        "The accuracy level is quite high for LeNet at 0.99.\n",
        "\n",
        "\n",
        "\n"
      ],
      "metadata": {
        "id": "VRw59fSdpRHV"
      }
    },
    {
      "cell_type": "code",
      "source": [
        "score = model.evaluate(x_test, y_test, batch_size=32)"
      ],
      "metadata": {
        "colab": {
          "base_uri": "https://localhost:8080/"
        },
        "id": "ax-Fmf03ni2E",
        "outputId": "d23bc154-a9ce-4129-e234-17bb2cb0fd9d"
      },
      "execution_count": null,
      "outputs": [
        {
          "output_type": "stream",
          "name": "stdout",
          "text": [
            "313/313 [==============================] - 1s 3ms/step - loss: 0.0472 - accuracy: 0.9849\n"
          ]
        }
      ]
    },
    {
      "cell_type": "markdown",
      "source": [
        "I want to plot the model accuracy and model loss."
      ],
      "metadata": {
        "id": "PLqdrDvIt4d0"
      }
    },
    {
      "cell_type": "code",
      "source": [
        "plt.plot(history.history['accuracy'])\n",
        "plt.plot(history.history['val_accuracy'])\n",
        "plt.title('model accuracy')\n",
        "plt.ylabel('accuracy')\n",
        "plt.xlabel('epoch')\n",
        "plt.legend(['train', 'validate'], loc='upper left')\n",
        "plt.show()\n",
        "# summarize history for loss\n",
        "plt.plot(history.history['loss'])\n",
        "plt.plot(history.history['val_loss'])\n",
        "plt.title('model loss')\n",
        "plt.ylabel('loss')\n",
        "plt.xlabel('epoch')\n",
        "plt.legend(['train', 'validate'], loc='upper left')\n",
        "plt.show()"
      ],
      "metadata": {
        "colab": {
          "base_uri": "https://localhost:8080/",
          "height": 573
        },
        "id": "UomXX1YXz0v5",
        "outputId": "8febc57f-4857-4e2c-a61e-e2c091c1de22"
      },
      "execution_count": null,
      "outputs": [
        {
          "output_type": "display_data",
          "data": {
            "text/plain": [
              "<Figure size 432x288 with 1 Axes>"
            ],
            "image/png": "[encoded data removed]"
          },
          "metadata": {
            "needs_background": "light"
          }
        },
        {
          "output_type": "display_data",
          "data": {
            "text/plain": [
              "<Figure size 432x288 with 1 Axes>"
            ],
            "image/png": "[encoded data removed]"
          },
          "metadata": {
            "needs_background": "light"
          }
        }
      ]
    },
    {
      "cell_type": "markdown",
      "source": [
        "**Confusion Matrix**\n",
        "\n",
        "\n",
        "Another way to check the performance apart from accuracy is confusion matrix. I am using the confusion matrix to check the performance of the classifier. It reports the number of those samples that were classified both correctly and incorrectly. Based on the number of the samples that exist on the diagonal, it determines the accuracy of the model. This means that a higher number of samples that exist on the diagonal, the greater the accuracy of the model.\n",
        "\n"
      ],
      "metadata": {
        "id": "2hCdznBRhiKl"
      }
    },
    {
      "cell_type": "markdown",
      "source": [
        "Confusion matrix needs both labels and predictions to be single-digits, and not one hot encoded vectors. I want to convert them before I use confusion matrix on them."
      ],
      "metadata": {
        "id": "eB38y1bntRIe"
      }
    },
    {
      "cell_type": "code",
      "source": [
        "import numpy as np\n",
        "\n",
        "predict_y=model.predict(x_test)\n",
        "y_test_hat=np.argmax(predict_y,axis=1)\n",
        "y_test_org = np.argmax(y_test, axis = 1) "
      ],
      "metadata": {
        "colab": {
          "base_uri": "https://localhost:8080/"
        },
        "id": "UUdz8k5msdok",
        "outputId": "ad42241c-be36-45d5-fae8-903fee113d67"
      },
      "execution_count": null,
      "outputs": [
        {
          "output_type": "stream",
          "name": "stdout",
          "text": [
            "313/313 [==============================] - 1s 2ms/step\n"
          ]
        }
      ]
    },
    {
      "cell_type": "code",
      "source": [
        "import matplotlib.pyplot as plt\n",
        "\n",
        "def plot_confusion_matrix(cm, classes,\n",
        "                          normalize=False,\n",
        "                          title='Confusion matrix',\n",
        "                          cmap=plt.cm.Dark2):\n",
        "  \n",
        "    plt.imshow(cm, interpolation='nearest', cmap=cmap)\n",
        "    plt.title(title)\n",
        "    plt.colorbar()\n",
        "    tick_marks = np.arange(len(classes))\n",
        "    plt.xticks(tick_marks, classes, rotation=45)\n",
        "    plt.yticks(tick_marks, classes)\n",
        "\n",
        "    if normalize:\n",
        "        cm = cm.astype('float') / cm.sum(axis=1)[:, np.newaxis]\n",
        "\n",
        "    thresh = cm.max() / 2.\n",
        "    for i, j in product(range(cm.shape[0]), range(cm.shape[1])):\n",
        "          plt.text(j, i, cm[i, j],\n",
        "                  horizontalalignment=\"center\",\n",
        "                  color=\"white\" if cm[i, j] > thresh else \"black\")\n",
        "    plt.tight_layout()\n",
        "    plt.ylabel('True label')\n",
        "    plt.xlabel('Predicted label')\n"
      ],
      "metadata": {
        "id": "sl_jKUapqHYc"
      },
      "execution_count": null,
      "outputs": []
    },
    {
      "cell_type": "markdown",
      "source": [
        "**Importing the necessary modules**"
      ],
      "metadata": {
        "id": "ErAi0MfNtbky"
      }
    },
    {
      "cell_type": "code",
      "source": [
        "from itertools import product\n",
        "\n",
        "from sklearn.metrics import confusion_matrix\n",
        "from sklearn.metrics import classification_report"
      ],
      "metadata": {
        "id": "hHw1i-C5r16b"
      },
      "execution_count": null,
      "outputs": []
    },
    {
      "cell_type": "code",
      "source": [
        "confusion_mtx = confusion_matrix(y_test_org, y_test_hat) \n",
        "plot_confusion_matrix(confusion_mtx, classes = range(10))"
      ],
      "metadata": {
        "colab": {
          "base_uri": "https://localhost:8080/",
          "height": 311
        },
        "id": "iuZIG5gGrLDC",
        "outputId": "b3955900-f3c7-4edc-9f48-5e331a3d747a"
      },
      "execution_count": null,
      "outputs": [
        {
          "output_type": "display_data",
          "data": {
            "text/plain": [
              "<Figure size 432x288 with 2 Axes>"
            ],
            "image/png": "[encoded data removed]"
          },
          "metadata": {
            "needs_background": "light"
          }
        }
      ]
    },
    {
      "cell_type": "markdown",
      "source": [
        "The diagonal elements are those number of points where the predicted label was equal to the true label. In this case, the LeNet felt well, though it can be improved by tuning its hyperparameters or even doing data augmentation."
      ],
      "metadata": {
        "id": "DhHmjiw8gtAO"
      }
    },
    {
      "cell_type": "markdown",
      "source": [
        "**Classification Report**"
      ],
      "metadata": {
        "id": "Fof3cMV5txWg"
      }
    },
    {
      "cell_type": "markdown",
      "source": [
        "I want to check the classification report of the LeNet model."
      ],
      "metadata": {
        "id": "hVI4js4VAAuv"
      }
    },
    {
      "cell_type": "code",
      "source": [
        "print(classification_report(y_test_org,y_test_hat))"
      ],
      "metadata": {
        "colab": {
          "base_uri": "https://localhost:8080/"
        },
        "id": "szlbNOest0k4",
        "outputId": "88ae21af-1e52-4bf2-f4a7-393f17a0fa8e"
      },
      "execution_count": null,
      "outputs": [
        {
          "output_type": "stream",
          "name": "stdout",
          "text": [
            "              precision    recall  f1-score   support\n",
            "\n",
            "           0       0.98      0.99      0.99       980\n",
            "           1       0.99      1.00      0.99      1135\n",
            "           2       0.99      0.99      0.99      1032\n",
            "           3       1.00      0.96      0.98      1010\n",
            "           4       0.99      0.99      0.99       982\n",
            "           5       0.95      0.99      0.97       892\n",
            "           6       0.99      0.99      0.99       958\n",
            "           7       0.98      0.99      0.98      1028\n",
            "           8       0.99      0.98      0.98       974\n",
            "           9       0.99      0.97      0.98      1009\n",
            "\n",
            "    accuracy                           0.98     10000\n",
            "   macro avg       0.98      0.98      0.98     10000\n",
            "weighted avg       0.99      0.98      0.98     10000\n",
            "\n"
          ]
        }
      ]
    },
    {
      "cell_type": "markdown",
      "source": [
        "From the classification report, we can see that LeNet had an accuracy level of 98%.\n",
        "\n",
        "The precision score is 99%. This means that the prediction is correct about 99% of the time.\n",
        "\n",
        "The recall is 97%. Recall score measures the performance of the model by measuring the count of true positives. By using both precision and recall score, one can tell the performance of the model in predicting if the classes are not balanced.\n",
        "\n",
        "The f-1 score is 98%. The higher the f-1 score or the harmonic mean of precision and recall scores, the better the classifier.\n",
        "\n",
        "\n",
        "Macro-avg is the arithmetic mean of the f1-scores in both categories. Typically, the category with more support have higher scores because they can easily catch rarer categories. \n",
        "\n",
        "The weighted average is the precision of every class merged together. It takes the mean of every per-class F1 scores. \n",
        "\n",
        "Support represents how many times a class occurred in the dataset."
      ],
      "metadata": {
        "id": "aVkoS9MZsVhq"
      }
    },
    {
      "cell_type": "markdown",
      "source": [
        "#Googlenet"
      ],
      "metadata": {
        "id": "L3ejjw-Lcm6b"
      }
    },
    {
      "cell_type": "markdown",
      "source": [
        "**Importation of Libraries**"
      ],
      "metadata": {
        "id": "AN0ygcesP6-x"
      }
    },
    {
      "cell_type": "code",
      "metadata": {
        "id": "CXt05UtlLUcz"
      },
      "source": [
        "import tensorflow as tf\n",
        "import matplotlib.pyplot as plt\n",
        "from tensorflow.keras import datasets, layers, models, losses, Model"
      ],
      "execution_count": null,
      "outputs": []
    },
    {
      "cell_type": "markdown",
      "source": [
        "**Loading the MNIST dataset**\n",
        "\n",
        "I am loading the MNIST dataset and dividing them into train, test and validation groups. The MNIST dataset has images with the size of 28x28, while the GoogleNet algorithm is designed to access images of 224x224x3. To solve this, I will expand the third axis and repeat it three times to get a size of 28x28x3.\n",
        "\n",
        "I am then normalizing the dataset."
      ],
      "metadata": {
        "id": "PYK31FmWQJPk"
      }
    },
    {
      "cell_type": "code",
      "metadata": {
        "id": "baxvTVSQLcC9"
      },
      "source": [
        "(x_train, y_train), (x_test, y_test)=tf.keras.datasets.mnist.load_data()\n",
        "x_train = tf.pad(x_train, [[0, 0], [2,2], [2,2]])/255\n",
        "x_test = tf.pad(x_test, [[0, 0], [2,2], [2,2]])/255\n",
        "x_train = tf.expand_dims(x_train, axis=3, name=None)\n",
        "x_test = tf.expand_dims(x_test, axis=3, name=None)\n",
        "x_train = tf.repeat(x_train, 3, axis=3)\n",
        "x_test = tf.repeat(x_test, 3, axis=3)\n",
        "x_val = x_train[-2000:,:,:]\n",
        "y_val = y_train[-2000:]\n",
        "x_train = x_train[:-2000,:,:]\n",
        "y_train = y_train[:-2000]"
      ],
      "execution_count": null,
      "outputs": []
    },
    {
      "cell_type": "markdown",
      "source": [
        "**Creating the GoogleNet or Inception Architecture**\n",
        "\n",
        "The code in the cell below is meant to define the GoogLeNet path. This networ has nine inception blocks, and four max pooling layers that exist outside the blocks.\n",
        "\n",
        "The first two max pooling layers are between blocks 3 to 4, and the last two layers are between 7 and 8. The aim of the max pooling layer is to clamp down on the input's resolution and cost of computation.\n",
        "\n",
        "Typically, the GoogLeNet has four parallel paths.\n",
        "\n",
        "In the first path, I can see a convolutional layer that has a size of 1x1.\n",
        "\n",
        "As for the two following paths, which are the second and third paths, they have a size of 3x3 and 5x5 respectively.\n",
        "\n",
        "In the fourth path, it is utilizing a max pooling layer. The aim of this layer is to clamp down on the input's resolution.\n",
        "\n",
        "The last part of the code is a convolutional layer of size of 1x1 with the aim of clamping down on the dimension. "
      ],
      "metadata": {
        "id": "bOatoHYQQCkZ"
      }
    },
    {
      "cell_type": "code",
      "metadata": {
        "id": "6wKcYCdaLcFU"
      },
      "source": [
        "# Defining the GoogleNet or Inception path.\n",
        "def inception(x,\n",
        "              filters_1x1,\n",
        "              filters_3x3_reduce,\n",
        "              filters_3x3,\n",
        "              filters_5x5_reduce,\n",
        "              filters_5x5,\n",
        "              filters_pool):\n",
        "  path1 = layers.Conv2D(filters_1x1, (1, 1), padding='same', activation='relu')(x)\n",
        "\n",
        "  path2 = layers.Conv2D(filters_3x3_reduce, (1, 1), padding='same', activation='relu')(x)\n",
        "  path2 = layers.Conv2D(filters_3x3, (1, 1), padding='same', activation='relu')(path2)\n",
        "\n",
        "  path3 = layers.Conv2D(filters_5x5_reduce, (1, 1), padding='same', activation='relu')(x)\n",
        "  path3 = layers.Conv2D(filters_5x5, (1, 1), padding='same', activation='relu')(path3)\n",
        "\n",
        "  path4 = layers.MaxPool2D((3, 3), strides=(1, 1), padding='same')(x)\n",
        "  path4 = layers.Conv2D(filters_pool, (1, 1), padding='same', activation='relu')(path4)\n",
        "\n",
        "  return tf.concat([path1, path2, path3, path4], axis=3)"
      ],
      "execution_count": null,
      "outputs": []
    },
    {
      "cell_type": "markdown",
      "source": [
        "By padding, it is adding zeros to the image's edges to ensure that the features of the images edges are identifiable and to receive an output that resembles the input.\n",
        "\n",
        "The output is being flattened to make it easier for the algorithm to understand the features that were extracted and churn out a good model.\n",
        "\n",
        "The GoogleNet has nine inception blocks, with four max pooling layers, which are designed to clamp down on how complex the model is by reducing the input data.\n",
        "\n",
        "Every inception block is designed to  simultaenously extract the input features via four parallel paths. Using max pooling layer helps to reduce the resolution, ensuring that the network has a smaller number of parameters.\n",
        "\n",
        "\n",
        "Strides explain by how much the convolution filter is moved in each step. Typically, the conventional stride is pegged at 1. When it is above 1, it means that it will have lesser overlap in the receptive fields.\n",
        "\n",
        "Padding refers to the grey area that surrounds the input and it is utilized to ensure that the size of the feature maps remain the same. If this is not done, the feature maps would shrink.\n",
        "\n",
        "The Conv2D is designed to create a convolutional layer. It contains the filter count, kernel size, filter size, padding and activation function. In the first convolution layer, it is a convolutional layer with filter of 64, kernel size of 7, and strides of 2. The activation function was relu. The padding was same. Padding can either be same or valid. When it is same, it means that it is padded with the number on the edge. If it were the valid option chosen, it would have meant that there was no padding. \n",
        "\n",
        "As the convolution operation is done, the next step is to do pooling. This is done to clamp down on the dimensionality, by reducing the parameters and keeping only the important information. When pooling is done, the training time reduces, thereby minimizing the risk of overfitting. Max pooling is interested in the maximum value.\n",
        "\n",
        "The difference between a pooling and convolution layer is that the pooling typically has a stride of 2 and no padding, while the latter possesses a stride of 1 and padding.\n",
        "\n",
        "\n",
        "Another important feature in the GoogleNet code is the hyperparameters, which include the filter sizes of 1x1,3x3 and 5x5. It has a filter count of between 32 and 1024, but in this case, we are using between 16 and 128. The higher the filter count used, the more powerful the model that is created, though it comes with the potential risk of overfitting.\n",
        "\n",
        "\n",
        "The next important feature is the fully connected network that are created after creating the convolution and pooling. Flattening is done in this stage because the outputs that come from convolution and pooling are 3D volumes, while 1D vector is what the fully connected wants. Basically, this process converts the 3D to 1D.\n",
        "\n",
        "Dropout is a regularization technique that tries to prevent overfitting, thereby improving accuracy. When dropout is done, it makes every neuron in the network to be independent by purposely disabling some neurons. Dropout is only done to the hidden layers of inputs. It is not effected on the output nodes.\n",
        "\n",
        "The activation function of the output layer is softmax and it gives a thousand outputs.\n",
        "\n",
        "\n",
        "The convolution and pooling layers carry out the feature extraction aspect of a CNN model."
      ],
      "metadata": {
        "id": "-fkZDKKQbkjf"
      }
    },
    {
      "cell_type": "code",
      "metadata": {
        "id": "nDEI1TMtLcHq"
      },
      "source": [
        "inp = layers.Input(shape=(32, 32, 3))\n",
        "input_tensor = layers.experimental.preprocessing.Resizing(224, 224, interpolation=\"bilinear\", input_shape=x_train.shape[1:])(inp)\n",
        "\n",
        "# This is a convolutional layer with filter of 64, kernel size of 7, and strides of 2.\n",
        "x = layers.Conv2D(64, 7, strides=2, padding='same', activation='relu')(input_tensor)\n",
        "\n",
        "# This is a max pooling layer with a pool sixe of 3, and strides of 2\n",
        "x = layers.MaxPooling2D(3, strides=2)(x)\n",
        "\n",
        "# This is a convolutional layer with filter of 64 and strides of 1.\n",
        "x = layers.Conv2D(64, 1, strides=1, padding='same', activation='relu')(x)\n",
        "\n",
        "# This is a convolutional layer with filter of 192 and strides of 1.\n",
        "x = layers.Conv2D(192, 3, strides=1, padding='same', activation='relu')(x)\n",
        "\n",
        "# This is a max pooling layer with a pool sixe of 3, and strides of 2\n",
        "x = layers.MaxPooling2D(3, strides=2)(x)\n",
        "\n",
        "# This is the first inception block.\n",
        "x = inception(x,\n",
        "              filters_1x1=64,\n",
        "              filters_3x3_reduce=96,\n",
        "              filters_3x3=128,\n",
        "              filters_5x5_reduce=16,\n",
        "              filters_5x5=32,\n",
        "              filters_pool=32)\n",
        "\n",
        "# This is the second inception block.\n",
        "x = inception(x,\n",
        "              filters_1x1=128,\n",
        "              filters_3x3_reduce=128,\n",
        "              filters_3x3=192,\n",
        "              filters_5x5_reduce=32,\n",
        "              filters_5x5=96,\n",
        "              filters_pool=64)\n",
        "\n",
        "# This is a max pooling layer with a pool sixe of 3, and strides of 2\n",
        "x = layers.MaxPooling2D(3, strides=2)(x)\n",
        "\n",
        "# This is the third inception block.\n",
        "x = inception(x,\n",
        "              filters_1x1=192,\n",
        "              filters_3x3_reduce=96,\n",
        "              filters_3x3=208,\n",
        "              filters_5x5_reduce=16,\n",
        "              filters_5x5=48,\n",
        "              filters_pool=64)\n",
        "\n",
        "# This is the extra network 1\n",
        "aux1 = layers.AveragePooling2D((5, 5), strides=3)(x)\n",
        "aux1 = layers.Conv2D(128, 1, padding='same', activation='relu')(aux1)\n",
        "aux1 = layers.Flatten()(aux1)\n",
        "aux1 = layers.Dense(1024, activation='relu')(aux1)\n",
        "aux1 = layers.Dropout(0.7)(aux1)\n",
        "aux1 = layers.Dense(10, activation='softmax')(aux1)\n",
        "\n",
        "# This is the fourth inception block.\n",
        "x = inception(x,\n",
        "              filters_1x1=160,\n",
        "              filters_3x3_reduce=112,\n",
        "              filters_3x3=224,\n",
        "              filters_5x5_reduce=24,\n",
        "              filters_5x5=64,\n",
        "              filters_pool=64)\n",
        "\n",
        "# This is the fifth inception block.\n",
        "x = inception(x,\n",
        "              filters_1x1=128,\n",
        "              filters_3x3_reduce=128,\n",
        "              filters_3x3=256,\n",
        "              filters_5x5_reduce=24,\n",
        "              filters_5x5=64,\n",
        "              filters_pool=64)\n",
        "\n",
        "# This is the sixth inception block.\n",
        "x = inception(x,\n",
        "              filters_1x1=112,\n",
        "              filters_3x3_reduce=144,\n",
        "              filters_3x3=288,\n",
        "              filters_5x5_reduce=32,\n",
        "              filters_5x5=64,\n",
        "              filters_pool=64)\n",
        "\n",
        "# This is the extra network 2\n",
        "aux2 = layers.AveragePooling2D((5, 5), strides=3)(x)\n",
        "aux2 = layers.Conv2D(128, 1, padding='same', activation='relu')(aux2)\n",
        "aux2 = layers.Flatten()(aux2)\n",
        "aux2 = layers.Dense(1024, activation='relu')(aux2)\n",
        "aux2 = layers.Dropout(0.7)(aux2)\n",
        "aux2 = layers.Dense(10, activation='softmax')(aux2)\n",
        "\n",
        "# This is the seventh inception block.\n",
        "x = inception(x,\n",
        "              filters_1x1=256,\n",
        "              filters_3x3_reduce=160,\n",
        "              filters_3x3=320,\n",
        "              filters_5x5_reduce=32,\n",
        "              filters_5x5=128,\n",
        "              filters_pool=128)\n",
        "\n",
        "# This is a max pooling layer with a pool sixe of 3, and strides of 2\n",
        "x = layers.MaxPooling2D(3, strides=2)(x)\n",
        "\n",
        "# This is the eight inception block.\n",
        "x = inception(x,\n",
        "              filters_1x1=256,\n",
        "              filters_3x3_reduce=160,\n",
        "              filters_3x3=320,\n",
        "              filters_5x5_reduce=32,\n",
        "              filters_5x5=128,\n",
        "              filters_pool=128)\n",
        "\n",
        "# This is the ninth inception block.\n",
        "x = inception(x,\n",
        "              filters_1x1=384,\n",
        "              filters_3x3_reduce=192,\n",
        "              filters_3x3=384,\n",
        "              filters_5x5_reduce=48,\n",
        "              filters_5x5=128,\n",
        "              filters_pool=128)\n",
        "\n",
        "# This is the Global Average Pooling layer.\n",
        "x = layers.GlobalAveragePooling2D()(x)\n",
        "\n",
        "# This is the dropout layer\n",
        "x = layers.Dropout(0.4)(x)\n",
        "\n",
        "# This is the output layer\n",
        "out = layers.Dense(10, activation='softmax')(x)"
      ],
      "execution_count": null,
      "outputs": []
    },
    {
      "cell_type": "code",
      "metadata": {
        "id": "WzIFlLP9LcLQ"
      },
      "source": [
        "# This is the model.\n",
        "model = Model(inputs = inp, outputs = [out, aux1, aux2])"
      ],
      "execution_count": null,
      "outputs": []
    },
    {
      "cell_type": "markdown",
      "source": [
        "**Compiling the model**\n",
        "\n",
        "I want to optimize the empty GoogLeNet architecture that I created above.  To do this, I will introduce three parameters, which are the loss function, optimizer and metrics. I am choosing Adam as the optimizer because I have noticed that it is efficient from my research. In the case of the loss function, I am using the Sparse categorical crossentropy because it is a multi class classification model.\n",
        "\n",
        "I used accuracy as the metric that I want to monitor. "
      ],
      "metadata": {
        "id": "4Q2RImlEAhrW"
      }
    },
    {
      "cell_type": "code",
      "metadata": {
        "id": "wJjdIxC1aWwO"
      },
      "source": [
        "model.compile(optimizer='adam', loss=[losses.sparse_categorical_crossentropy, losses.sparse_categorical_crossentropy, losses.sparse_categorical_crossentropy], loss_weights=[1, 0.3, 0.3], metrics=['accuracy'])"
      ],
      "execution_count": null,
      "outputs": []
    },
    {
      "cell_type": "markdown",
      "source": [
        "The batch size is 64, while the epoch was pegged at 5 to ensure that the training time was shorter."
      ],
      "metadata": {
        "id": "GjA3JslxBNZM"
      }
    },
    {
      "cell_type": "code",
      "metadata": {
        "colab": {
          "base_uri": "https://localhost:8080/"
        },
        "id": "VofnKKKoauYX",
        "outputId": "8cfbf5f3-767f-4c0b-a635-cc74132c89da"
      },
      "source": [
        "history = model.fit(x_train, [y_train, y_train, y_train], validation_data=(x_val, [y_val, y_val, y_val]), batch_size=64, epochs=5)"
      ],
      "execution_count": null,
      "outputs": [
        {
          "output_type": "stream",
          "name": "stdout",
          "text": [
            "Epoch 1/5\n",
            "907/907 [==============================] - 162s 172ms/step - loss: 1.2008 - dense_7_loss: 0.8825 - dense_4_loss: 0.4967 - dense_6_loss: 0.5644 - dense_7_accuracy: 0.6900 - dense_4_accuracy: 0.8312 - dense_6_accuracy: 0.8045 - val_loss: 0.1880 - val_dense_7_loss: 0.1356 - val_dense_4_loss: 0.0922 - val_dense_6_loss: 0.0824 - val_dense_7_accuracy: 0.9650 - val_dense_4_accuracy: 0.9740 - val_dense_6_accuracy: 0.9765\n",
            "Epoch 2/5\n",
            "907/907 [==============================] - 153s 169ms/step - loss: 0.2332 - dense_7_loss: 0.1607 - dense_4_loss: 0.1177 - dense_6_loss: 0.1241 - dense_7_accuracy: 0.9525 - dense_4_accuracy: 0.9645 - dense_6_accuracy: 0.9627 - val_loss: 0.1175 - val_dense_7_loss: 0.0735 - val_dense_4_loss: 0.0603 - val_dense_6_loss: 0.0862 - val_dense_7_accuracy: 0.9785 - val_dense_4_accuracy: 0.9835 - val_dense_6_accuracy: 0.9760\n",
            "Epoch 3/5\n",
            "907/907 [==============================] - 155s 170ms/step - loss: 0.1574 - dense_7_loss: 0.1038 - dense_4_loss: 0.0888 - dense_6_loss: 0.0899 - dense_7_accuracy: 0.9684 - dense_4_accuracy: 0.9734 - dense_6_accuracy: 0.9724 - val_loss: 0.0932 - val_dense_7_loss: 0.0648 - val_dense_4_loss: 0.0476 - val_dense_6_loss: 0.0472 - val_dense_7_accuracy: 0.9805 - val_dense_4_accuracy: 0.9870 - val_dense_6_accuracy: 0.9880\n",
            "Epoch 4/5\n",
            "907/907 [==============================] - 153s 169ms/step - loss: 0.1225 - dense_7_loss: 0.0812 - dense_4_loss: 0.0661 - dense_6_loss: 0.0714 - dense_7_accuracy: 0.9760 - dense_4_accuracy: 0.9799 - dense_6_accuracy: 0.9779 - val_loss: 0.0832 - val_dense_7_loss: 0.0589 - val_dense_4_loss: 0.0380 - val_dense_6_loss: 0.0430 - val_dense_7_accuracy: 0.9840 - val_dense_4_accuracy: 0.9905 - val_dense_6_accuracy: 0.9885\n",
            "Epoch 5/5\n",
            "907/907 [==============================] - 152s 167ms/step - loss: 0.1064 - dense_7_loss: 0.0689 - dense_4_loss: 0.0612 - dense_6_loss: 0.0638 - dense_7_accuracy: 0.9796 - dense_4_accuracy: 0.9813 - dense_6_accuracy: 0.9804 - val_loss: 0.0709 - val_dense_7_loss: 0.0542 - val_dense_4_loss: 0.0303 - val_dense_6_loss: 0.0254 - val_dense_7_accuracy: 0.9845 - val_dense_4_accuracy: 0.9925 - val_dense_6_accuracy: 0.9945\n"
          ]
        }
      ]
    },
    {
      "cell_type": "markdown",
      "source": [
        "This plots the results of the training by showing the loss, validation loss, and accuracy."
      ],
      "metadata": {
        "id": "p8B4smrrBXlJ"
      }
    },
    {
      "cell_type": "code",
      "metadata": {
        "colab": {
          "base_uri": "https://localhost:8080/",
          "height": 910
        },
        "id": "53UluuOE5TX_",
        "outputId": "ced5d89c-bcb6-457e-e959-5970bf6b14f8"
      },
      "source": [
        "fig, axs = plt.subplots(2, 1, figsize=(15,15))\n",
        "\n",
        "axs[0].plot(history.history['loss'])\n",
        "axs[0].plot(history.history['val_loss'])\n",
        "axs[0].title.set_text('Training Loss vs Validation Loss')\n",
        "axs[0].set_xlabel('Epochs')\n",
        "axs[0].set_ylabel('Loss')\n",
        "axs[0].legend(['Train','Val'])\n",
        "\n",
        "axs[1].plot(history.history['dense_7_accuracy'])\n",
        "axs[1].plot(history.history['val_dense_7_accuracy'])\n",
        "axs[1].title.set_text('Training Accuracy vs Validation Accuracy')\n",
        "axs[1].set_xlabel('Epochs')\n",
        "axs[1].set_ylabel('Accuracy')\n",
        "axs[1].legend(['Train', 'Val'])"
      ],
      "execution_count": null,
      "outputs": [
        {
          "output_type": "execute_result",
          "data": {
            "text/plain": [
              "<matplotlib.legend.Legend at 0x7fc94b7da5e0>"
            ]
          },
          "metadata": {},
          "execution_count": 24
        },
        {
          "output_type": "display_data",
          "data": {
            "text/plain": [
              "<Figure size 1080x1080 with 2 Axes>"
            ],
            "image/png": "[encoded data removed]"
          },
          "metadata": {
            "needs_background": "light"
          }
        }
      ]
    },
    {
      "cell_type": "markdown",
      "source": [
        "The gap between the valiodation loss and train loss is shrinking after every epoch. This occurs because the network is learning the data. This also reduces the regularization loss."
      ],
      "metadata": {
        "id": "9sw48V58sMiP"
      }
    },
    {
      "cell_type": "markdown",
      "source": [
        "This will disclose the accuracy level in figures."
      ],
      "metadata": {
        "id": "GYE4OjexBnXW"
      }
    },
    {
      "cell_type": "code",
      "metadata": {
        "colab": {
          "base_uri": "https://localhost:8080/"
        },
        "id": "iNbFiTZW5dQ7",
        "outputId": "6dca7f98-450b-45f9-c9cc-76529ff0ddc9"
      },
      "source": [
        "model.evaluate(x_test, y_test)"
      ],
      "execution_count": null,
      "outputs": [
        {
          "output_type": "stream",
          "name": "stdout",
          "text": [
            "313/313 [==============================] - 11s 31ms/step - loss: 0.0890 - dense_7_loss: 0.0671 - dense_4_loss: 0.0334 - dense_6_loss: 0.0396 - dense_7_accuracy: 0.9786 - dense_4_accuracy: 0.9893 - dense_6_accuracy: 0.9868\n"
          ]
        },
        {
          "output_type": "execute_result",
          "data": {
            "text/plain": [
              "[0.0889996737241745,\n",
              " 0.0670817419886589,\n",
              " 0.033418234437704086,\n",
              " 0.03964146599173546,\n",
              " 0.978600025177002,\n",
              " 0.989300012588501,\n",
              " 0.9868000149726868]"
            ]
          },
          "metadata": {},
          "execution_count": 25
        }
      ]
    },
    {
      "cell_type": "markdown",
      "source": [
        "GoogleNet has a loss of 0.089, which is low and an accuracy level of 0.987. It is at par with LeNet in this case."
      ],
      "metadata": {
        "id": "sDNjIpsF55f7"
      }
    },
    {
      "cell_type": "markdown",
      "source": [
        "# Comparison of Chosen Algorithms"
      ],
      "metadata": {
        "id": "n1fy1s7KzuNC"
      }
    },
    {
      "cell_type": "markdown",
      "source": [
        "From the analysis above, the accuracy levels are 0.99 for GoogleNet and LeNet. I feel the value would have increased if I had increased the epoch and batch size and did hyperparameter tuning or augmentation.\n",
        "\n",
        "The train loss for LeNet was 0.03728 and the train loss for GoogleNet was 0.089. The train loss is lower for LeNet means that there are fewer errors. \n",
        "\n",
        "LeNet is older than GoogleNet as the former was developed in 1998 and 2014 respectively. The former has sixty thousand parameters and the latter has four million parameters. \n",
        "\n",
        "LeNet can run smoothly either on CPU or GPU, while I noticed that GoogleNet had a slow training time on CPU, but was faster on GPU.\n",
        "\n",
        "GoogleNEt uses inception modules and Average Pooling which reduced the number of necessary parameters when you compare it with the likes of Alexnet while LeNet uses two fully connected layers. \n",
        "\n",
        "LeNet may be an awesome way to be introduced into CNN and deep learning, but it has its downsides. The model is not designed to be deep, meaning that it may not work effectively if it is not fed with enough data. "
      ],
      "metadata": {
        "id": "SXyyVL1obPB_"
      }
    },
    {
      "cell_type": "markdown",
      "source": [
        "#Conclusion\n",
        "\n",
        "\n",
        "I realized that the training time for GoogleNet was longer when I trained it in this notebook under LeNet than when I trained it in a separate notebook. When I trained it in a separate Jupyter notebook, it was faster.\n",
        "\n",
        "I did my research and realized that I could change my runtime type to GPU instead of CPU. This improved the speed of my training for GoogleNet.\n",
        "\n",
        "On the other hand, LeNet training time was fast, not minding if the Google Colab notebook was on GPU or CPU.\n",
        "\n",
        "I believe that the accuracy level for both algorithms would have been better if I had increased the epoch and batch size, but I was considering training time for both myself and the lecturer marking this coursework.\n",
        "\n",
        "The performance of the CNN models could have also been improved by finetuning them using data augmentation or hyperparameter tuning. Data Augmentation involves improving the amount of data that the model has access to by creating new data points from existing data. By doing that, the model  performance improves because overfitting is reduced. Data augmentation involves creating realistic images based on transformative avtivities such as changing the contrast, exposure or even resizing the images.\n",
        "\n",
        "\n",
        "By hyperparameter tuning, we can change parameters like batch size, epoch, activation function and so on to improve the performance of the model."
      ],
      "metadata": {
        "id": "Ccj3vpLNKhMx"
      }
    },
    {
      "cell_type": "markdown",
      "source": [
        "#Reference\n",
        "\n",
        "Das, S. (2017) CNN Architectures: LeNet, AlexNet, VGG, GoogLeNet, ResNet and more… Available at:\n",
        "https://medium.com/analytics-vidhya/cnns-architectures-lenet-alexnet-vgg-googlenet-resnet-and-more-666091488df5 (Accessed: 18 December 2022).\n",
        "\n",
        "\n",
        "Chaturvedi, A. (2022) GoogLeNet Model. AVailable at:\n",
        "https://www.codingninjas.com/codestudio/library/googlenet-model (Accessed: 19 December 2022).\n",
        "\n",
        "Mrgrhn (2021) GoogLeNet (InceptionV1) with TensorFlow. Available at: \n",
        "https://ai.plainenglish.io/googlenet-inceptionv1-with-tensorflow-9e7f3a161e87  (Accessed: 23 December 2022).\n",
        "\n",
        "\n",
        "MathWorks (no date) What Is a Convolutional Neural Network? Available at:\n",
        "https://www.mathworks.com/discovery/convolutional-neural-network-matlab.html#:~:text=A%20convolutional%20neural%20network%20(CNN,%2Dseries%2C%20and%20signal%20data. (Accessed: 24 December 2022).\n",
        "\n",
        "MNSIT - CNN with Augmentation\n",
        "https://www.kaggle.com/code/sandhyakrishnan02/mnsit-cnn-with-augmentation#5.-Importing-Libraries-and-Data-File\n",
        "\n",
        "Awati, R. (2022) convolutional neural network (CNN). Available at:\n",
        "https://www.techtarget.com/searchenterpriseai/definition/convolutional-neural-network?amp=1 (Accessed: 21 December 2022).\n",
        "\n",
        "SelectStar (2020) What is MNIST? And why is it important? Available at:\n",
        "https://selectstar-ai.medium.com/what-is-mnist-and-why-is-it-important-e9a269edbad5 (Accessed: 20 December 2022).\n",
        "\n",
        "\n",
        "https://medium.com/swlh/alexnet-with-tensorflow-46f366559ce8\n",
        "\n",
        "\n",
        "Le, K. (2021) Implementation of GoogLeNet on Keras. Available at: \n",
        "https://medium.com/mlearning-ai/implementation-of-googlenet-on-keras-d9873aeed83c (Accessed: 15 December 2022).\n",
        "\n",
        "\n",
        "Varshney, P. (2020). LeNet Architecture: A Complete Guide. Available at:\n",
        "https://www.kaggle.com/code/blurredmachine/lenet-architecture-a-complete-guide/notebook (Accessed: 18 December 2022)."
      ],
      "metadata": {
        "id": "aInDUcfcFLdR"
      }
    }
  ]
}